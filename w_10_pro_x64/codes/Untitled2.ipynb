{
 "cells": [
  {
   "cell_type": "code",
   "execution_count": 1,
   "id": "upper-compound",
   "metadata": {},
   "outputs": [
    {
     "name": "stdout",
     "output_type": "stream",
     "text": [
      "Enter the # of iterations5\n"
     ]
    }
   ],
   "source": [
    "import random \n",
    "n=int(input(\"Enter the # of iterations\"))\n",
    "sum=[]\n",
    "for i in range(n):\n",
    "    a=random.randint(1,6)\n",
    "    b=random.randint(1,6)\n",
    "    c=a+b\n",
    "    sum.append(c)\n",
    "   "
   ]
  },
  {
   "cell_type": "code",
   "execution_count": 2,
   "id": "flexible-relevance",
   "metadata": {},
   "outputs": [
    {
     "name": "stdout",
     "output_type": "stream",
     "text": [
      "[5, 8, 9, 4, 5]\n"
     ]
    }
   ],
   "source": [
    "print(sum)"
   ]
  },
  {
   "cell_type": "code",
   "execution_count": 3,
   "id": "lucky-astrology",
   "metadata": {},
   "outputs": [
    {
     "name": "stdout",
     "output_type": "stream",
     "text": [
      "Enter the values of list of length 10\n",
      "1\n",
      "2\n",
      "3\n",
      "4\n",
      "5\n",
      "6\n",
      "143\n",
      "232\n",
      "1\n",
      "12\n",
      "[1, 2, 3, 4, 5, 6, 'over', 'over', 1, 12]\n"
     ]
    }
   ],
   "source": [
    "mylist=[]\n",
    "print(\"Enter the values of list of length 10\")\n",
    "\n",
    "for i in range(10):\n",
    "    mylist.append(int(input()))\n",
    "    if(mylist[i]>100):\n",
    "        mylist[i]='over'\n",
    "        \n",
    "        \n",
    "print(mylist)    "
   ]
  },
  {
   "cell_type": "code",
   "execution_count": null,
   "id": "public-anthropology",
   "metadata": {},
   "outputs": [],
   "source": []
  }
 ],
 "metadata": {
  "kernelspec": {
   "display_name": "Python 3",
   "language": "python",
   "name": "python3"
  },
  "language_info": {
   "codemirror_mode": {
    "name": "ipython",
    "version": 3
   },
   "file_extension": ".py",
   "mimetype": "text/x-python",
   "name": "python",
   "nbconvert_exporter": "python",
   "pygments_lexer": "ipython3",
   "version": "3.9.1"
  }
 },
 "nbformat": 4,
 "nbformat_minor": 5
}
