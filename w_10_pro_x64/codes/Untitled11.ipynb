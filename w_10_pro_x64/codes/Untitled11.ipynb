{
 "cells": [
  {
   "cell_type": "code",
   "execution_count": 6,
   "id": "positive-decade",
   "metadata": {},
   "outputs": [
    {
     "name": "stdout",
     "output_type": "stream",
     "text": [
      "ENter High:34287\n",
      "Enter entry price :34000\n",
      "Enter sl :33899\n",
      "Enter low made:33475\n",
      "Range_target = 287\n",
      "Range sl = 101\n",
      "Target_price = 143.5\n",
      "stoploss = 50.5\n",
      "Price wrt low made = 262.5\n"
     ]
    }
   ],
   "source": [
    "a=int(input(\"ENter High:\"))\n",
    "b=int(input(\"Enter entry price :\"))\n",
    "c=int(input(\"Enter sl :\"))\n",
    "d=int(input(\"Enter low made:\"))\n",
    "\n",
    "\n",
    "range_target= a-b\n",
    "\n",
    "range_sl= b-c\n",
    "\n",
    "target_price= (a-b)/2\n",
    "\n",
    "sl=(b-c)/2\n",
    "\n",
    "sl_based_low = (b-d)/2\n",
    "print(\"Range_target =\",range_target)\n",
    "print(\"Range sl =\",range_sl)\n",
    "\n",
    "print(\"Target_price =\",target_price)\n",
    "print(\"stoploss =\",sl)\n",
    "print(\"Price wrt low made =\",sl_based_low)\n"
   ]
  },
  {
   "cell_type": "code",
   "execution_count": null,
   "id": "revised-impact",
   "metadata": {},
   "outputs": [],
   "source": []
  }
 ],
 "metadata": {
  "kernelspec": {
   "display_name": "Python 3",
   "language": "python",
   "name": "python3"
  },
  "language_info": {
   "codemirror_mode": {
    "name": "ipython",
    "version": 3
   },
   "file_extension": ".py",
   "mimetype": "text/x-python",
   "name": "python",
   "nbconvert_exporter": "python",
   "pygments_lexer": "ipython3",
   "version": "3.8.5"
  }
 },
 "nbformat": 4,
 "nbformat_minor": 5
}
