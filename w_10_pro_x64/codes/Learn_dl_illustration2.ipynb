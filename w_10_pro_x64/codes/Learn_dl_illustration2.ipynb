{
 "cells": [
  {
   "cell_type": "code",
   "execution_count": 66,
   "id": "worldwide-insight",
   "metadata": {},
   "outputs": [],
   "source": [
    "import keras\n",
    "from keras.datasets import mnist\n",
    "from keras.layers import Dense,Activation,Dropout\n",
    "from keras import Sequential\n",
    "from keras.layers.normalization import BatchNormalization\n",
    "import numpy as np\n",
    "import matplotlib.pyplot as plt\n",
    "from keras.callbacks import TensorBoard\n",
    "%load_ext tensorboard"
   ]
  },
  {
   "cell_type": "code",
   "execution_count": 47,
   "id": "intended-daisy",
   "metadata": {},
   "outputs": [],
   "source": [
    "from keras.utils import to_categorical\n",
    "from keras.optimizers import Adam"
   ]
  },
  {
   "cell_type": "code",
   "execution_count": 48,
   "id": "official-dress",
   "metadata": {},
   "outputs": [],
   "source": [
    "(x_data,y_data),(x_data_val,y_data_val)=mnist.load_data()"
   ]
  },
  {
   "cell_type": "code",
   "execution_count": 49,
   "id": "historic-boxing",
   "metadata": {},
   "outputs": [],
   "source": [
    "x_flatten=x_data.reshape(60000,784).astype('float32')\n",
    "x_val_flatten=x_data_val.reshape(10000,784).astype('float32')"
   ]
  },
  {
   "cell_type": "code",
   "execution_count": 50,
   "id": "fitted-sixth",
   "metadata": {},
   "outputs": [],
   "source": [
    "x_flatten/=255\n",
    "x_val_flatten/=255"
   ]
  },
  {
   "cell_type": "code",
   "execution_count": 51,
   "id": "coastal-optimum",
   "metadata": {},
   "outputs": [],
   "source": [
    "x_train=x_flatten\n",
    "x_valid=x_val_flatten"
   ]
  },
  {
   "cell_type": "code",
   "execution_count": 52,
   "id": "discrete-auditor",
   "metadata": {},
   "outputs": [],
   "source": [
    "n_classes=10\n",
    "y_train=to_categorical(y_data,n_classes)\n",
    "y_valid=to_categorical(y_data_val,n_classes)"
   ]
  },
  {
   "cell_type": "code",
   "execution_count": 55,
   "id": "opening-sword",
   "metadata": {},
   "outputs": [],
   "source": [
    "model=Sequential([\n",
    "    Dense(64,input_dim=784),\n",
    "    Activation('relu'),\n",
    "    BatchNormalization(),\n",
    "    \n",
    "    Dense(64),\n",
    "    Activation('relu'),\n",
    "    BatchNormalization(),\n",
    "    \n",
    "    Dense(64),\n",
    "    Activation('relu'),\n",
    "    BatchNormalization(),\n",
    "    Dropout(0.2),\n",
    "    \n",
    "    Dense(10),\n",
    "    Activation('softmax'),\n",
    "    \n",
    "])"
   ]
  },
  {
   "cell_type": "code",
   "execution_count": 56,
   "id": "joined-disney",
   "metadata": {},
   "outputs": [
    {
     "name": "stdout",
     "output_type": "stream",
     "text": [
      "Model: \"sequential_4\"\n",
      "_________________________________________________________________\n",
      "Layer (type)                 Output Shape              Param #   \n",
      "=================================================================\n",
      "dense_14 (Dense)             (None, 64)                50240     \n",
      "_________________________________________________________________\n",
      "activation_14 (Activation)   (None, 64)                0         \n",
      "_________________________________________________________________\n",
      "batch_normalization_10 (Batc (None, 64)                256       \n",
      "_________________________________________________________________\n",
      "dense_15 (Dense)             (None, 64)                4160      \n",
      "_________________________________________________________________\n",
      "activation_15 (Activation)   (None, 64)                0         \n",
      "_________________________________________________________________\n",
      "batch_normalization_11 (Batc (None, 64)                256       \n",
      "_________________________________________________________________\n",
      "dense_16 (Dense)             (None, 64)                4160      \n",
      "_________________________________________________________________\n",
      "activation_16 (Activation)   (None, 64)                0         \n",
      "_________________________________________________________________\n",
      "batch_normalization_12 (Batc (None, 64)                256       \n",
      "_________________________________________________________________\n",
      "dropout_4 (Dropout)          (None, 64)                0         \n",
      "_________________________________________________________________\n",
      "dense_17 (Dense)             (None, 10)                650       \n",
      "_________________________________________________________________\n",
      "activation_17 (Activation)   (None, 10)                0         \n",
      "=================================================================\n",
      "Total params: 59,978\n",
      "Trainable params: 59,594\n",
      "Non-trainable params: 384\n",
      "_________________________________________________________________\n"
     ]
    }
   ],
   "source": [
    "model.summary()"
   ]
  },
  {
   "cell_type": "code",
   "execution_count": 57,
   "id": "hollow-characteristic",
   "metadata": {},
   "outputs": [],
   "source": [
    "model.compile(loss='categorical_crossentropy',optimizer='Adam',metrics=['accuracy'])"
   ]
  },
  {
   "cell_type": "code",
   "execution_count": 67,
   "id": "greater-relief",
   "metadata": {},
   "outputs": [],
   "source": [
    "tensorboard=TensorBoard('logs/deep-net-samp')"
   ]
  },
  {
   "cell_type": "code",
   "execution_count": 68,
   "id": "attached-flush",
   "metadata": {},
   "outputs": [
    {
     "name": "stdout",
     "output_type": "stream",
     "text": [
      "Epoch 1/20\n",
      "469/469 [==============================] - 7s 15ms/step - loss: 0.0101 - accuracy: 0.9966 - val_loss: 0.1084 - val_accuracy: 0.9788\n",
      "Epoch 2/20\n",
      "469/469 [==============================] - 5s 11ms/step - loss: 0.0108 - accuracy: 0.9965 - val_loss: 0.1138 - val_accuracy: 0.9760\n",
      "Epoch 3/20\n",
      "469/469 [==============================] - 5s 11ms/step - loss: 0.0094 - accuracy: 0.9967 - val_loss: 0.1110 - val_accuracy: 0.9789\n",
      "Epoch 4/20\n",
      "469/469 [==============================] - 5s 11ms/step - loss: 0.0095 - accuracy: 0.9967 - val_loss: 0.1006 - val_accuracy: 0.9788\n",
      "Epoch 5/20\n",
      "469/469 [==============================] - 5s 11ms/step - loss: 0.0087 - accuracy: 0.9970 - val_loss: 0.1070 - val_accuracy: 0.9781\n",
      "Epoch 6/20\n",
      "469/469 [==============================] - 5s 12ms/step - loss: 0.0115 - accuracy: 0.9962 - val_loss: 0.1100 - val_accuracy: 0.9785\n",
      "Epoch 7/20\n",
      "469/469 [==============================] - 5s 12ms/step - loss: 0.0114 - accuracy: 0.9964 - val_loss: 0.1081 - val_accuracy: 0.9782\n",
      "Epoch 8/20\n",
      "469/469 [==============================] - 5s 11ms/step - loss: 0.0090 - accuracy: 0.9969 - val_loss: 0.1163 - val_accuracy: 0.9777\n",
      "Epoch 9/20\n",
      "469/469 [==============================] - 5s 12ms/step - loss: 0.0086 - accuracy: 0.9974 - val_loss: 0.1040 - val_accuracy: 0.9799\n",
      "Epoch 10/20\n",
      "469/469 [==============================] - 5s 12ms/step - loss: 0.0096 - accuracy: 0.9969 - val_loss: 0.1113 - val_accuracy: 0.9788\n",
      "Epoch 11/20\n",
      "469/469 [==============================] - 5s 12ms/step - loss: 0.0075 - accuracy: 0.9973 - val_loss: 0.1127 - val_accuracy: 0.9791\n",
      "Epoch 12/20\n",
      "469/469 [==============================] - 5s 12ms/step - loss: 0.0090 - accuracy: 0.9969 - val_loss: 0.1063 - val_accuracy: 0.9788\n",
      "Epoch 13/20\n",
      "469/469 [==============================] - 5s 12ms/step - loss: 0.0100 - accuracy: 0.9965 - val_loss: 0.1177 - val_accuracy: 0.9783\n",
      "Epoch 14/20\n",
      "469/469 [==============================] - 5s 12ms/step - loss: 0.0075 - accuracy: 0.9976 - val_loss: 0.1167 - val_accuracy: 0.9781\n",
      "Epoch 15/20\n",
      "469/469 [==============================] - 5s 12ms/step - loss: 0.0075 - accuracy: 0.9977 - val_loss: 0.1314 - val_accuracy: 0.9764\n",
      "Epoch 16/20\n",
      "469/469 [==============================] - 5s 12ms/step - loss: 0.0084 - accuracy: 0.9973 - val_loss: 0.1112 - val_accuracy: 0.9792\n",
      "Epoch 17/20\n",
      "469/469 [==============================] - 5s 12ms/step - loss: 0.0096 - accuracy: 0.9966 - val_loss: 0.1137 - val_accuracy: 0.9803\n",
      "Epoch 18/20\n",
      "469/469 [==============================] - 5s 12ms/step - loss: 0.0088 - accuracy: 0.9970 - val_loss: 0.1160 - val_accuracy: 0.9782\n",
      "Epoch 19/20\n",
      "469/469 [==============================] - 5s 12ms/step - loss: 0.0072 - accuracy: 0.9978 - val_loss: 0.1115 - val_accuracy: 0.9785\n",
      "Epoch 20/20\n",
      "469/469 [==============================] - 5s 12ms/step - loss: 0.0072 - accuracy: 0.9976 - val_loss: 0.1223 - val_accuracy: 0.9763\n"
     ]
    },
    {
     "data": {
      "text/plain": [
       "<tensorflow.python.keras.callbacks.History at 0x175c7794490>"
      ]
     },
     "execution_count": 68,
     "metadata": {},
     "output_type": "execute_result"
    }
   ],
   "source": [
    "model.fit(x_train,y_train,batch_size=128,epochs=20,verbose=1,validation_data=(x_valid,y_valid),callbacks=[tensorboard])"
   ]
  },
  {
   "cell_type": "code",
   "execution_count": 70,
   "id": "pointed-space",
   "metadata": {},
   "outputs": [
    {
     "data": {
      "text/plain": [
       "ERROR: Could not find `tensorboard`. Please ensure that your PATH\n",
       "contains an executable `tensorboard` program, or explicitly specify\n",
       "the path to a TensorBoard binary by setting the `TENSORBOARD_BINARY`\n",
       "environment variable."
      ]
     },
     "metadata": {},
     "output_type": "display_data"
    }
   ],
   "source": [
    "%tensorboard --logdir='logs/deep-net-samp'\n",
    "\n",
    "\n",
    "#python -m tensorboard.main --logdir=[PATH_TO_LOGDIR]\n",
    "#run in terminal"
   ]
  },
  {
   "cell_type": "code",
   "execution_count": 20,
   "id": "cosmetic-learning",
   "metadata": {},
   "outputs": [
    {
     "name": "stdout",
     "output_type": "stream",
     "text": [
      "313/313 [==============================] - 1s 3ms/step - loss: 0.0945 - accuracy: 0.9773\n"
     ]
    },
    {
     "data": {
      "text/plain": [
       "[0.09454591572284698, 0.9772999882698059]"
      ]
     },
     "execution_count": 20,
     "metadata": {},
     "output_type": "execute_result"
    }
   ],
   "source": [
    "model.evaluate(x_valid,y_valid)"
   ]
  },
  {
   "cell_type": "code",
   "execution_count": 22,
   "id": "combined-respondent",
   "metadata": {},
   "outputs": [
    {
     "data": {
      "text/plain": [
       "<matplotlib.image.AxesImage at 0x175d9288610>"
      ]
     },
     "execution_count": 22,
     "metadata": {},
     "output_type": "execute_result"
    },
    {
     "data": {
      "image/png": "[encoded data removed]",
      "text/plain": [
       "<Figure size 432x288 with 1 Axes>"
      ]
     },
     "metadata": {
      "needs_background": "light"
     },
     "output_type": "display_data"
    }
   ],
   "source": [
    "plt.imshow(x_data[21],cmap='Greys')"
   ]
  },
  {
   "cell_type": "code",
   "execution_count": 25,
   "id": "wireless-delivery",
   "metadata": {},
   "outputs": [
    {
     "data": {
      "text/plain": [
       "(784,)"
      ]
     },
     "execution_count": 25,
     "metadata": {},
     "output_type": "execute_result"
    }
   ],
   "source": [
    "x_train[21].shape"
   ]
  },
  {
   "cell_type": "code",
   "execution_count": 31,
   "id": "executive-lecture",
   "metadata": {},
   "outputs": [],
   "source": [
    "x_sam=x_train[21].reshape(1,784).astype('float32')"
   ]
  },
  {
   "cell_type": "code",
   "execution_count": 35,
   "id": "equal-england",
   "metadata": {},
   "outputs": [
    {
     "data": {
      "text/plain": [
       "array([[9.9998116e-01, 1.2681804e-08, 1.7249365e-09, 1.4675698e-08,\n",
       "        3.1088812e-10, 3.9476607e-08, 1.8868168e-05, 1.8777021e-08,\n",
       "        6.8367418e-09, 1.3751528e-09]], dtype=float32)"
      ]
     },
     "execution_count": 35,
     "metadata": {},
     "output_type": "execute_result"
    }
   ],
   "source": [
    "model.predict(x_sam)"
   ]
  },
  {
   "cell_type": "code",
   "execution_count": 34,
   "id": "minor-comparison",
   "metadata": {},
   "outputs": [
    {
     "data": {
      "text/plain": [
       "array([0], dtype=int64)"
      ]
     },
     "execution_count": 34,
     "metadata": {},
     "output_type": "execute_result"
    }
   ],
   "source": [
    "np.argmax(model.predict(x_sam),axis=-1)"
   ]
  },
  {
   "cell_type": "code",
   "execution_count": 36,
   "id": "interested-volume",
   "metadata": {},
   "outputs": [
    {
     "name": "stdout",
     "output_type": "stream",
     "text": [
      "1875/1875 [==============================] - 10s 5ms/step - loss: 0.0102 - accuracy: 0.9969\n"
     ]
    },
    {
     "data": {
      "text/plain": [
       "[0.010182430036365986, 0.9968666434288025]"
      ]
     },
     "execution_count": 36,
     "metadata": {},
     "output_type": "execute_result"
    }
   ],
   "source": [
    "model.evaluate(x_train,y_train)"
   ]
  },
  {
   "cell_type": "code",
   "execution_count": 37,
   "id": "solar-entry",
   "metadata": {},
   "outputs": [],
   "source": [
    "from keras.datasets import boston_housing"
   ]
  },
  {
   "cell_type": "code",
   "execution_count": 38,
   "id": "muslim-integer",
   "metadata": {},
   "outputs": [
    {
     "name": "stdout",
     "output_type": "stream",
     "text": [
      "Downloading data from https://storage.googleapis.com/tensorflow/tf-keras-datasets/boston_housing.npz\n",
      "57344/57026 [==============================] - 1s 20us/step\n"
     ]
    }
   ],
   "source": [
    "(x_train,y_train),(x_valid,y_valid)=boston_housing.load_data()"
   ]
  },
  {
   "cell_type": "code",
   "execution_count": 41,
   "id": "liable-architecture",
   "metadata": {},
   "outputs": [],
   "source": [
    "model=Sequential([\n",
    "    Dense(32,input_dim=13),\n",
    "    Activation('relu'),\n",
    "    BatchNormalization(),\n",
    "    \n",
    "    Dense(16),\n",
    "    Activation('relu'),\n",
    "    BatchNormalization(),\n",
    "    Dropout(0.2),\n",
    "    \n",
    "    Dense(1),\n",
    "    Activation('linear'),\n",
    "    \n",
    "])"
   ]
  },
  {
   "cell_type": "code",
   "execution_count": 42,
   "id": "regulation-television",
   "metadata": {},
   "outputs": [
    {
     "name": "stdout",
     "output_type": "stream",
     "text": [
      "Model: \"sequential_2\"\n",
      "_________________________________________________________________\n",
      "Layer (type)                 Output Shape              Param #   \n",
      "=================================================================\n",
      "dense_7 (Dense)              (None, 32)                448       \n",
      "_________________________________________________________________\n",
      "activation_7 (Activation)    (None, 32)                0         \n",
      "_________________________________________________________________\n",
      "batch_normalization_5 (Batch (None, 32)                128       \n",
      "_________________________________________________________________\n",
      "dense_8 (Dense)              (None, 16)                528       \n",
      "_________________________________________________________________\n",
      "activation_8 (Activation)    (None, 16)                0         \n",
      "_________________________________________________________________\n",
      "batch_normalization_6 (Batch (None, 16)                64        \n",
      "_________________________________________________________________\n",
      "dropout_2 (Dropout)          (None, 16)                0         \n",
      "_________________________________________________________________\n",
      "dense_9 (Dense)              (None, 1)                 17        \n",
      "_________________________________________________________________\n",
      "activation_9 (Activation)    (None, 1)                 0         \n",
      "=================================================================\n",
      "Total params: 1,185\n",
      "Trainable params: 1,089\n",
      "Non-trainable params: 96\n",
      "_________________________________________________________________\n"
     ]
    }
   ],
   "source": [
    "model.summary()"
   ]
  },
  {
   "cell_type": "code",
   "execution_count": 43,
   "id": "assisted-chess",
   "metadata": {},
   "outputs": [],
   "source": [
    "model.compile(loss='mean_squared_error',optimizer='Adam')"
   ]
  },
  {
   "cell_type": "code",
   "execution_count": 44,
   "id": "collect-worst",
   "metadata": {},
   "outputs": [
    {
     "name": "stdout",
     "output_type": "stream",
     "text": [
      "Epoch 1/32\n",
      "51/51 [==============================] - 4s 16ms/step - loss: 581.3937 - val_loss: 594.1721\n",
      "Epoch 2/32\n",
      "51/51 [==============================] - 0s 6ms/step - loss: 530.0461 - val_loss: 600.7190\n",
      "Epoch 3/32\n",
      "51/51 [==============================] - 0s 6ms/step - loss: 561.8424 - val_loss: 583.2975\n",
      "Epoch 4/32\n",
      "51/51 [==============================] - 0s 6ms/step - loss: 520.5043 - val_loss: 541.3059\n",
      "Epoch 5/32\n",
      "51/51 [==============================] - 0s 6ms/step - loss: 547.9512 - val_loss: 521.6421\n",
      "Epoch 6/32\n",
      "51/51 [==============================] - 0s 6ms/step - loss: 488.6299 - val_loss: 482.0515\n",
      "Epoch 7/32\n",
      "51/51 [==============================] - 0s 6ms/step - loss: 429.3952 - val_loss: 458.5703\n",
      "Epoch 8/32\n",
      "51/51 [==============================] - 0s 6ms/step - loss: 400.0586 - val_loss: 422.5670\n",
      "Epoch 9/32\n",
      "51/51 [==============================] - 0s 6ms/step - loss: 352.9823 - val_loss: 400.4570\n",
      "Epoch 10/32\n",
      "51/51 [==============================] - 0s 6ms/step - loss: 335.6815 - val_loss: 298.9616\n",
      "Epoch 11/32\n",
      "51/51 [==============================] - 0s 6ms/step - loss: 281.3523 - val_loss: 289.5029\n",
      "Epoch 12/32\n",
      "51/51 [==============================] - 0s 6ms/step - loss: 276.5041 - val_loss: 139.6729\n",
      "Epoch 13/32\n",
      "51/51 [==============================] - 0s 7ms/step - loss: 226.7756 - val_loss: 175.9865\n",
      "Epoch 14/32\n",
      "51/51 [==============================] - 0s 6ms/step - loss: 177.5513 - val_loss: 123.0169\n",
      "Epoch 15/32\n",
      "51/51 [==============================] - 0s 6ms/step - loss: 145.0503 - val_loss: 100.8405\n",
      "Epoch 16/32\n",
      "51/51 [==============================] - 0s 6ms/step - loss: 109.4528 - val_loss: 71.7355\n",
      "Epoch 17/32\n",
      "51/51 [==============================] - 0s 6ms/step - loss: 91.0019 - val_loss: 46.7413\n",
      "Epoch 18/32\n",
      "51/51 [==============================] - 0s 6ms/step - loss: 84.5470 - val_loss: 61.5058\n",
      "Epoch 19/32\n",
      "51/51 [==============================] - 0s 6ms/step - loss: 74.8181 - val_loss: 86.7002\n",
      "Epoch 20/32\n",
      "51/51 [==============================] - 0s 6ms/step - loss: 52.1478 - val_loss: 73.2594\n",
      "Epoch 21/32\n",
      "51/51 [==============================] - 0s 6ms/step - loss: 52.7893 - val_loss: 53.3263\n",
      "Epoch 22/32\n",
      "51/51 [==============================] - 0s 6ms/step - loss: 49.0841 - val_loss: 49.9804\n",
      "Epoch 23/32\n",
      "51/51 [==============================] - 0s 6ms/step - loss: 53.4185 - val_loss: 45.5532\n",
      "Epoch 24/32\n",
      "51/51 [==============================] - 0s 7ms/step - loss: 51.9326 - val_loss: 40.5370\n",
      "Epoch 25/32\n",
      "51/51 [==============================] - 0s 6ms/step - loss: 41.7545 - val_loss: 107.2768\n",
      "Epoch 26/32\n",
      "51/51 [==============================] - 0s 6ms/step - loss: 48.8593 - val_loss: 49.4980\n",
      "Epoch 27/32\n",
      "51/51 [==============================] - 0s 6ms/step - loss: 50.0846 - val_loss: 56.4010\n",
      "Epoch 28/32\n",
      "51/51 [==============================] - 0s 7ms/step - loss: 46.0273 - val_loss: 56.1455\n",
      "Epoch 29/32\n",
      "51/51 [==============================] - 0s 6ms/step - loss: 47.2642 - val_loss: 43.5663\n",
      "Epoch 30/32\n",
      "51/51 [==============================] - 0s 6ms/step - loss: 39.9301 - val_loss: 45.6320\n",
      "Epoch 31/32\n",
      "51/51 [==============================] - 0s 9ms/step - loss: 42.0457 - val_loss: 46.5480\n",
      "Epoch 32/32\n",
      "51/51 [==============================] - 0s 9ms/step - loss: 48.7476 - val_loss: 61.6005\n"
     ]
    },
    {
     "data": {
      "text/plain": [
       "<tensorflow.python.keras.callbacks.History at 0x175d985c100>"
      ]
     },
     "execution_count": 44,
     "metadata": {},
     "output_type": "execute_result"
    }
   ],
   "source": [
    "model.fit(x_train,y_train,batch_size=8,epochs=32,verbose=1,validation_data=(x_valid,y_valid))"
   ]
  },
  {
   "cell_type": "code",
   "execution_count": 45,
   "id": "reserved-armor",
   "metadata": {},
   "outputs": [
    {
     "data": {
      "text/plain": [
       "array([[21.56247]], dtype=float32)"
      ]
     },
     "execution_count": 45,
     "metadata": {},
     "output_type": "execute_result"
    }
   ],
   "source": [
    "model.predict(np.reshape(x_valid[42],[1,13]))"
   ]
  },
  {
   "cell_type": "code",
   "execution_count": null,
   "id": "reasonable-termination",
   "metadata": {},
   "outputs": [],
   "source": []
  }
 ],
 "metadata": {
  "kernelspec": {
   "display_name": "Python 3",
   "language": "python",
   "name": "python3"
  },
  "language_info": {
   "codemirror_mode": {
    "name": "ipython",
    "version": 3
   },
   "file_extension": ".py",
   "mimetype": "text/x-python",
   "name": "python",
   "nbconvert_exporter": "python",
   "pygments_lexer": "ipython3",
   "version": "3.8.5"
  }
 },
 "nbformat": 4,
 "nbformat_minor": 5
}
