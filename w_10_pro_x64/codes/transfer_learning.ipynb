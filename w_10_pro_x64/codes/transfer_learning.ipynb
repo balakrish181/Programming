{
 "cells": [
  {
   "cell_type": "code",
   "execution_count": 5,
   "id": "textile-ribbon",
   "metadata": {},
   "outputs": [],
   "source": [
    "import keras\n",
    "from keras.models import Sequential\n",
    "from keras.applications.vgg19 import VGG19\n",
    "from keras.layers import Dense,Flatten,Dropout\n",
    "from keras.layers.normalization import BatchNormalization\n",
    "from keras.preprocessing.image import ImageDataGenerator\n",
    "from keras.optimizers import Adam"
   ]
  },
  {
   "cell_type": "code",
   "execution_count": 3,
   "id": "natural-basketball",
   "metadata": {},
   "outputs": [
    {
     "name": "stdout",
     "output_type": "stream",
     "text": [
      "Downloading data from https://storage.googleapis.com/tensorflow/keras-applications/vgg19/vgg19_weights_tf_dim_ordering_tf_kernels_notop.h5\n",
      "80142336/80134624 [==============================] - 17s 0us/step\n"
     ]
    }
   ],
   "source": [
    "vgg19=VGG19(include_top=False,\n",
    "           weights='imagenet',\n",
    "           input_shape=(224,224,3),\n",
    "           pooling=None)\n",
    "\n",
    "for layer in vgg19.layers:\n",
    "    layer.trainable=False"
   ]
  },
  {
   "cell_type": "code",
   "execution_count": 4,
   "id": "recreational-sociology",
   "metadata": {},
   "outputs": [],
   "source": [
    "model=Sequential([\n",
    "    vgg19,\n",
    "    Flatten(),\n",
    "    Dropout(0.5),\n",
    "    Dense(2,activation='softmax')\n",
    "])"
   ]
  },
  {
   "cell_type": "code",
   "execution_count": 6,
   "id": "buried-danish",
   "metadata": {},
   "outputs": [],
   "source": [
    "model.compile(loss='categorical_crossentropy',optimizer='adam',metrics=['accuracy'])"
   ]
  },
  {
   "cell_type": "code",
   "execution_count": null,
   "id": "streaming-transportation",
   "metadata": {},
   "outputs": [],
   "source": [
    "train_datagen=ImageDataGenerator(rescale=1.0/255,\n",
    "                                data_format='channels_list',\n",
    "                                rotation_range=30,\n",
    "                                horizontal_flip=True,\n",
    "                                fill_mode='reflect')\n",
    "val_datagen=ImageDataGenerator(rescale=1.0/255,\n",
    "                              data_format='channels_list')"
   ]
  }
 ],
 "metadata": {
  "kernelspec": {
   "display_name": "Python 3",
   "language": "python",
   "name": "python3"
  },
  "language_info": {
   "codemirror_mode": {
    "name": "ipython",
    "version": 3
   },
   "file_extension": ".py",
   "mimetype": "text/x-python",
   "name": "python",
   "nbconvert_exporter": "python",
   "pygments_lexer": "ipython3",
   "version": "3.8.5"
  }
 },
 "nbformat": 4,
 "nbformat_minor": 5
}
