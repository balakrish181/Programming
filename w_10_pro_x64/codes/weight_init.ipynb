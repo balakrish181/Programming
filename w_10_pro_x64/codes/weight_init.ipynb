{
 "cells": [
  {
   "cell_type": "code",
   "execution_count": 1,
   "id": "labeled-doubt",
   "metadata": {},
   "outputs": [],
   "source": [
    "import tensorflow\n",
    "import keras\n",
    "from keras.layers import Dense,Activation\n",
    "from keras.initializers import Zeros,glorot_normal,glorot_uniform\n",
    "from keras import Sequential\n",
    "import matplotlib.pyplot as plt"
   ]
  },
  {
   "cell_type": "code",
   "execution_count": 2,
   "id": "selective-patent",
   "metadata": {},
   "outputs": [],
   "source": [
    "n_input=784\n",
    "n_dense=256"
   ]
  },
  {
   "cell_type": "code",
   "execution_count": 3,
   "id": "adequate-embassy",
   "metadata": {},
   "outputs": [],
   "source": [
    "b_init=Zeros()\n"
   ]
  },
  {
   "cell_type": "code",
   "execution_count": 4,
   "id": "political-serve",
   "metadata": {},
   "outputs": [],
   "source": [
    "w_init=glorot_normal()"
   ]
  },
  {
   "cell_type": "code",
   "execution_count": 5,
   "id": "ancient-anger",
   "metadata": {},
   "outputs": [],
   "source": [
    "model=Sequential([\n",
    "    Dense(n_dense,input_dim=n_input,kernel_initializer=w_init,bias_initializer=b_init),\n",
    "    Activation('sigmoid')\n",
    "])"
   ]
  },
  {
   "cell_type": "code",
   "execution_count": 6,
   "id": "sealed-purple",
   "metadata": {},
   "outputs": [],
   "source": [
    "import numpy as np\n",
    "x=np.random.random((1,n_input))"
   ]
  },
  {
   "cell_type": "code",
   "execution_count": 7,
   "id": "minute-simpson",
   "metadata": {},
   "outputs": [],
   "source": [
    "a=model.predict(x)"
   ]
  },
  {
   "cell_type": "code",
   "execution_count": 8,
   "id": "shaped-trace",
   "metadata": {},
   "outputs": [
    {
     "name": "stdout",
     "output_type": "stream",
     "text": [
      "[[0.7033522  0.39890712 0.75363076 0.2892231  0.4281851  0.3460644\n",
      "  0.44398183 0.38564304 0.39210021 0.24738765 0.64987946 0.18915445\n",
      "  0.20765832 0.5005204  0.646253   0.6344621  0.5893642  0.43532282\n",
      "  0.49341494 0.30416843 0.5986227  0.45492977 0.72413194 0.5467826\n",
      "  0.53813636 0.6870088  0.61699593 0.7844708  0.5689144  0.5005372\n",
      "  0.60764545 0.65762305 0.6692935  0.25448263 0.47731122 0.3184365\n",
      "  0.5791155  0.32560542 0.72264636 0.5135418  0.42912847 0.44666106\n",
      "  0.5436983  0.31005013 0.30555344 0.12800342 0.45201796 0.33824736\n",
      "  0.5618582  0.5855985  0.58954674 0.660345   0.74018496 0.3727448\n",
      "  0.72855455 0.64331555 0.60739243 0.54202676 0.68329895 0.6344628\n",
      "  0.54453075 0.4976372  0.7143937  0.4822314  0.5526686  0.26970184\n",
      "  0.2795632  0.23682058 0.6737499  0.7593062  0.702847   0.5018199\n",
      "  0.4807674  0.54160184 0.51097655 0.81569636 0.37826854 0.6587983\n",
      "  0.537911   0.29065058 0.6797997  0.4632504  0.40930793 0.76233983\n",
      "  0.18917984 0.46201584 0.7718468  0.76354736 0.48843524 0.31596845\n",
      "  0.43102536 0.29229036 0.7943048  0.48019522 0.48881972 0.38355786\n",
      "  0.72703177 0.6945222  0.58744556 0.30178952 0.6141507  0.51976055\n",
      "  0.79122466 0.27057484 0.4228133  0.46392664 0.73006976 0.23367682\n",
      "  0.49264887 0.43799087 0.60179263 0.503883   0.33826056 0.43247297\n",
      "  0.772215   0.44085556 0.7212109  0.74378216 0.69809985 0.23295784\n",
      "  0.4985995  0.5057624  0.24509248 0.32669467 0.49770695 0.673942\n",
      "  0.38272166 0.43337977 0.6331341  0.51579094 0.53865814 0.5383709\n",
      "  0.43503165 0.28891316 0.4512301  0.43892255 0.66586816 0.42532888\n",
      "  0.6313532  0.52632195 0.4029197  0.3583207  0.5887699  0.56905854\n",
      "  0.68432206 0.48236164 0.3545847  0.30601388 0.48875415 0.42054254\n",
      "  0.5360369  0.51843333 0.31697553 0.5600195  0.5242725  0.38100955\n",
      "  0.5102751  0.32266998 0.495277   0.27554658 0.45242637 0.648368\n",
      "  0.33007586 0.62495494 0.71388817 0.43986732 0.46187824 0.46685943\n",
      "  0.4976055  0.4428467  0.61603934 0.29623032 0.43885866 0.69487345\n",
      "  0.18006507 0.5733437  0.7606667  0.5895021  0.6138578  0.4530243\n",
      "  0.7166133  0.7717359  0.25180072 0.36058697 0.883126   0.8153149\n",
      "  0.39162433 0.3623124  0.5439487  0.7517743  0.44553518 0.53164226\n",
      "  0.52413374 0.41050398 0.08540261 0.66779643 0.5983653  0.4614324\n",
      "  0.5317763  0.63733774 0.24558893 0.54943484 0.38455346 0.34928495\n",
      "  0.5153213  0.50850666 0.63237846 0.5978524  0.4875193  0.48659402\n",
      "  0.57802385 0.7745357  0.3617472  0.6813132  0.53265667 0.3228897\n",
      "  0.50068504 0.24458104 0.3833033  0.23225167 0.57371134 0.42409086\n",
      "  0.70263225 0.5993     0.60454696 0.32270893 0.641376   0.58135563\n",
      "  0.46397734 0.56073815 0.5272947  0.38401547 0.4412134  0.6514965\n",
      "  0.5252805  0.71472424 0.42913786 0.60779935 0.43841457 0.26035056\n",
      "  0.6219496  0.27327222 0.40680113 0.38544792 0.6238138  0.25386077\n",
      "  0.41259798 0.58629453 0.38188365 0.523281   0.2367141  0.45544708\n",
      "  0.61421245 0.6482108  0.5553898  0.27849886]]\n"
     ]
    }
   ],
   "source": [
    "print(a)"
   ]
  },
  {
   "cell_type": "code",
   "execution_count": 9,
   "id": "smooth-smooth",
   "metadata": {},
   "outputs": [
    {
     "data": {
      "text/plain": [
       "(1, 256)"
      ]
     },
     "execution_count": 9,
     "metadata": {},
     "output_type": "execute_result"
    }
   ],
   "source": [
    "a.shape"
   ]
  },
  {
   "cell_type": "code",
   "execution_count": 10,
   "id": "behavioral-relay",
   "metadata": {},
   "outputs": [
    {
     "data": {
      "image/png": "[encoded data removed]",
      "text/plain": [
       "<Figure size 432x288 with 1 Axes>"
      ]
     },
     "metadata": {
      "needs_background": "light"
     },
     "output_type": "display_data"
    }
   ],
   "source": [
    "_=plt.hist(np.transpose(a))"
   ]
  },
  {
   "cell_type": "code",
   "execution_count": 11,
   "id": "virgin-performance",
   "metadata": {},
   "outputs": [],
   "source": [
    "x=np.random.random((1,n_input))"
   ]
  },
  {
   "cell_type": "code",
   "execution_count": 12,
   "id": "purple-basement",
   "metadata": {},
   "outputs": [],
   "source": [
    "w_init=glorot_uniform()"
   ]
  },
  {
   "cell_type": "code",
   "execution_count": 13,
   "id": "intense-cassette",
   "metadata": {},
   "outputs": [],
   "source": [
    "model=Sequential([\n",
    "    Dense(n_dense,input_dim=n_input,kernel_initializer=w_init,bias_initializer=b_init),\n",
    "    Activation('relu')\n",
    "])"
   ]
  },
  {
   "cell_type": "code",
   "execution_count": 14,
   "id": "entertaining-librarian",
   "metadata": {},
   "outputs": [],
   "source": [
    "b=model.predict(x)"
   ]
  },
  {
   "cell_type": "code",
   "execution_count": 15,
   "id": "alpine-output",
   "metadata": {},
   "outputs": [
    {
     "data": {
      "image/png": "[encoded data removed]",
      "text/plain": [
       "<Figure size 432x288 with 1 Axes>"
      ]
     },
     "metadata": {
      "needs_background": "light"
     },
     "output_type": "display_data"
    }
   ],
   "source": [
    "_=plt.hist(np.transpose(a))"
   ]
  },
  {
   "cell_type": "code",
   "execution_count": 16,
   "id": "rural-beverage",
   "metadata": {},
   "outputs": [],
   "source": [
    "from keras.optimizers import SGD\n",
    "model.compile(loss='categorical_crossentropy',optimizer=SGD(lr=0.01),metrics=['accuracy'] )"
   ]
  },
  {
   "cell_type": "code",
   "execution_count": 17,
   "id": "accurate-switzerland",
   "metadata": {},
   "outputs": [],
   "source": [
    "import keras\n",
    "from keras.datasets import mnist\n",
    "from keras.layers import Dense,Activation\n",
    "from keras.initializers import glorot_normal\n",
    "from keras.optimizers import SGD\n",
    "import numpy as np\n"
   ]
  },
  {
   "cell_type": "code",
   "execution_count": 18,
   "id": "middle-occupation",
   "metadata": {},
   "outputs": [],
   "source": [
    "(x_train,y_train),(x_valid,y_valid)=mnist.load_data()"
   ]
  },
  {
   "cell_type": "code",
   "execution_count": 19,
   "id": "blond-douglas",
   "metadata": {},
   "outputs": [],
   "source": [
    "m=x_train.shape[0]"
   ]
  },
  {
   "cell_type": "code",
   "execution_count": 20,
   "id": "received-provincial",
   "metadata": {},
   "outputs": [],
   "source": [
    "n=y_valid.shape[0]"
   ]
  },
  {
   "cell_type": "code",
   "execution_count": 21,
   "id": "enormous-chart",
   "metadata": {},
   "outputs": [],
   "source": [
    "x_train=x_train.reshape(m,784).astype('float32')"
   ]
  },
  {
   "cell_type": "code",
   "execution_count": 22,
   "id": "successful-bradley",
   "metadata": {},
   "outputs": [
    {
     "data": {
      "text/plain": [
       "(60000, 784)"
      ]
     },
     "execution_count": 22,
     "metadata": {},
     "output_type": "execute_result"
    }
   ],
   "source": [
    "x_train.shape"
   ]
  },
  {
   "cell_type": "code",
   "execution_count": 23,
   "id": "wanted-conversation",
   "metadata": {},
   "outputs": [],
   "source": [
    "x_valid=x_valid.reshape(n,784).astype('float32')"
   ]
  },
  {
   "cell_type": "code",
   "execution_count": 24,
   "id": "golden-cradle",
   "metadata": {},
   "outputs": [],
   "source": [
    "x_train/=255\n",
    "x_valid/=255"
   ]
  },
  {
   "cell_type": "code",
   "execution_count": 25,
   "id": "closed-thermal",
   "metadata": {},
   "outputs": [],
   "source": [
    "from keras.utils import to_categorical\n",
    "n_classes=10\n",
    "y_train=to_categorical(y_train,n_classes)\n",
    "y_valid=to_categorical(y_valid,n_classes)"
   ]
  },
  {
   "cell_type": "code",
   "execution_count": 26,
   "id": "graphic-fluid",
   "metadata": {},
   "outputs": [],
   "source": [
    "model=Sequential([\n",
    "    Dense(64,input_shape=(784,)),\n",
    "    Activation('relu'),\n",
    "    Dense(32),\n",
    "    Activation('relu'),\n",
    "    Dense(10),\n",
    "    Activation('softmax')\n",
    "])"
   ]
  },
  {
   "cell_type": "code",
   "execution_count": 27,
   "id": "married-glass",
   "metadata": {},
   "outputs": [
    {
     "name": "stdout",
     "output_type": "stream",
     "text": [
      "Model: \"sequential_2\"\n",
      "_________________________________________________________________\n",
      "Layer (type)                 Output Shape              Param #   \n",
      "=================================================================\n",
      "dense_2 (Dense)              (None, 64)                50240     \n",
      "_________________________________________________________________\n",
      "activation_2 (Activation)    (None, 64)                0         \n",
      "_________________________________________________________________\n",
      "dense_3 (Dense)              (None, 32)                2080      \n",
      "_________________________________________________________________\n",
      "activation_3 (Activation)    (None, 32)                0         \n",
      "_________________________________________________________________\n",
      "dense_4 (Dense)              (None, 10)                330       \n",
      "_________________________________________________________________\n",
      "activation_4 (Activation)    (None, 10)                0         \n",
      "=================================================================\n",
      "Total params: 52,650\n",
      "Trainable params: 52,650\n",
      "Non-trainable params: 0\n",
      "_________________________________________________________________\n"
     ]
    }
   ],
   "source": [
    "model.summary()"
   ]
  },
  {
   "cell_type": "code",
   "execution_count": 28,
   "id": "charming-locking",
   "metadata": {},
   "outputs": [],
   "source": [
    "model.compile(loss='categorical_crossentropy',optimizer=SGD(lr=0.01),metrics=['accuracy'])"
   ]
  },
  {
   "cell_type": "code",
   "execution_count": 29,
   "id": "manufactured-paint",
   "metadata": {},
   "outputs": [
    {
     "name": "stdout",
     "output_type": "stream",
     "text": [
      "Epoch 1/20\n",
      "469/469 [==============================] - 11s 18ms/step - loss: 1.8214 - accuracy: 0.4315 - val_loss: 0.7335 - val_accuracy: 0.8193\n",
      "Epoch 2/20\n",
      "469/469 [==============================] - 3s 7ms/step - loss: 0.6506 - accuracy: 0.8320 - val_loss: 0.4544 - val_accuracy: 0.8808\n",
      "Epoch 3/20\n",
      "469/469 [==============================] - 3s 7ms/step - loss: 0.4409 - accuracy: 0.8781 - val_loss: 0.3687 - val_accuracy: 0.9004\n",
      "Epoch 4/20\n",
      "469/469 [==============================] - 3s 7ms/step - loss: 0.3735 - accuracy: 0.8945 - val_loss: 0.3282 - val_accuracy: 0.9072\n",
      "Epoch 5/20\n",
      "469/469 [==============================] - 3s 7ms/step - loss: 0.3360 - accuracy: 0.9045 - val_loss: 0.3054 - val_accuracy: 0.9141\n",
      "Epoch 6/20\n",
      "469/469 [==============================] - 3s 7ms/step - loss: 0.3159 - accuracy: 0.9097 - val_loss: 0.2883 - val_accuracy: 0.9181\n",
      "Epoch 7/20\n",
      "469/469 [==============================] - 3s 7ms/step - loss: 0.2947 - accuracy: 0.9164 - val_loss: 0.2741 - val_accuracy: 0.9201\n",
      "Epoch 8/20\n",
      "469/469 [==============================] - 3s 7ms/step - loss: 0.2810 - accuracy: 0.9192 - val_loss: 0.2633 - val_accuracy: 0.9236\n",
      "Epoch 9/20\n",
      "469/469 [==============================] - 4s 8ms/step - loss: 0.2656 - accuracy: 0.9252 - val_loss: 0.2538 - val_accuracy: 0.9270\n",
      "Epoch 10/20\n",
      "469/469 [==============================] - 4s 8ms/step - loss: 0.2569 - accuracy: 0.9265 - val_loss: 0.2465 - val_accuracy: 0.9280\n",
      "Epoch 11/20\n",
      "469/469 [==============================] - 4s 8ms/step - loss: 0.2450 - accuracy: 0.9298 - val_loss: 0.2399 - val_accuracy: 0.9318\n",
      "Epoch 12/20\n",
      "469/469 [==============================] - 3s 7ms/step - loss: 0.2366 - accuracy: 0.9338 - val_loss: 0.2316 - val_accuracy: 0.9325\n",
      "Epoch 13/20\n",
      "469/469 [==============================] - 3s 7ms/step - loss: 0.2271 - accuracy: 0.9351 - val_loss: 0.2253 - val_accuracy: 0.9339\n",
      "Epoch 14/20\n",
      "469/469 [==============================] - 4s 8ms/step - loss: 0.2255 - accuracy: 0.9366 - val_loss: 0.2198 - val_accuracy: 0.9369\n",
      "Epoch 15/20\n",
      "469/469 [==============================] - 3s 7ms/step - loss: 0.2200 - accuracy: 0.9376 - val_loss: 0.2137 - val_accuracy: 0.9376\n",
      "Epoch 16/20\n",
      "469/469 [==============================] - 3s 7ms/step - loss: 0.2096 - accuracy: 0.9398 - val_loss: 0.2081 - val_accuracy: 0.9399\n",
      "Epoch 17/20\n",
      "469/469 [==============================] - 3s 7ms/step - loss: 0.2053 - accuracy: 0.9410 - val_loss: 0.2049 - val_accuracy: 0.9412\n",
      "Epoch 18/20\n",
      "469/469 [==============================] - 4s 8ms/step - loss: 0.1991 - accuracy: 0.9445 - val_loss: 0.1998 - val_accuracy: 0.9404\n",
      "Epoch 19/20\n",
      "469/469 [==============================] - 3s 7ms/step - loss: 0.1960 - accuracy: 0.9455 - val_loss: 0.1968 - val_accuracy: 0.9437\n",
      "Epoch 20/20\n",
      "469/469 [==============================] - 4s 8ms/step - loss: 0.1933 - accuracy: 0.9453 - val_loss: 0.1925 - val_accuracy: 0.9449\n"
     ]
    },
    {
     "data": {
      "text/plain": [
       "<tensorflow.python.keras.callbacks.History at 0x2e4c7275e50>"
      ]
     },
     "execution_count": 29,
     "metadata": {},
     "output_type": "execute_result"
    }
   ],
   "source": [
    "model.fit(x_train,y_train,batch_size=128,epochs=20,verbose=1,validation_data=(x_valid,y_valid))"
   ]
  },
  {
   "cell_type": "code",
   "execution_count": 50,
   "id": "considered-tactics",
   "metadata": {},
   "outputs": [
    {
     "data": {
      "text/plain": [
       "(60000, 784)"
      ]
     },
     "execution_count": 50,
     "metadata": {},
     "output_type": "execute_result"
    }
   ],
   "source": [
    "x_train.shape"
   ]
  },
  {
   "cell_type": "code",
   "execution_count": 51,
   "id": "mobile-arthritis",
   "metadata": {},
   "outputs": [
    {
     "data": {
      "text/plain": [
       "(60000, 10, 10, 10)"
      ]
     },
     "execution_count": 51,
     "metadata": {},
     "output_type": "execute_result"
    }
   ],
   "source": [
    "y_train.shape"
   ]
  },
  {
   "cell_type": "code",
   "execution_count": 30,
   "id": "certified-coordinator",
   "metadata": {},
   "outputs": [],
   "source": [
    "x_sam=x_valid[256].reshape(1,784).astype('float32')"
   ]
  },
  {
   "cell_type": "code",
   "execution_count": 31,
   "id": "afraid-filename",
   "metadata": {},
   "outputs": [
    {
     "data": {
      "text/plain": [
       "array([2], dtype=int64)"
      ]
     },
     "execution_count": 31,
     "metadata": {},
     "output_type": "execute_result"
    }
   ],
   "source": [
    "np.argmax(model.predict(x_sam),axis=-1)"
   ]
  },
  {
   "cell_type": "code",
   "execution_count": 34,
   "id": "acting-algebra",
   "metadata": {},
   "outputs": [
    {
     "ename": "TypeError",
     "evalue": "Invalid shape (784,) for image data",
     "output_type": "error",
     "traceback": [
      "\u001b[1;31m---------------------------------------------------------------------------\u001b[0m",
      "\u001b[1;31mTypeError\u001b[0m                                 Traceback (most recent call last)",
      "\u001b[1;32m<ipython-input-34-b0ebcdf8b15a>\u001b[0m in \u001b[0;36m<module>\u001b[1;34m\u001b[0m\n\u001b[1;32m----> 1\u001b[1;33m \u001b[0mplt\u001b[0m\u001b[1;33m.\u001b[0m\u001b[0mimshow\u001b[0m\u001b[1;33m(\u001b[0m\u001b[0mx_valid\u001b[0m\u001b[1;33m[\u001b[0m\u001b[1;36m256\u001b[0m\u001b[1;33m]\u001b[0m\u001b[1;33m,\u001b[0m\u001b[0mcmap\u001b[0m\u001b[1;33m=\u001b[0m\u001b[1;34m'Greys'\u001b[0m\u001b[1;33m)\u001b[0m\u001b[1;33m\u001b[0m\u001b[1;33m\u001b[0m\u001b[0m\n\u001b[0m",
      "\u001b[1;32mc:\\users\\puppy\\appdata\\local\\programs\\python\\python38\\lib\\site-packages\\matplotlib\\pyplot.py\u001b[0m in \u001b[0;36mimshow\u001b[1;34m(X, cmap, norm, aspect, interpolation, alpha, vmin, vmax, origin, extent, filternorm, filterrad, resample, url, data, **kwargs)\u001b[0m\n\u001b[0;32m   2870\u001b[0m         \u001b[0mfilternorm\u001b[0m\u001b[1;33m=\u001b[0m\u001b[1;32mTrue\u001b[0m\u001b[1;33m,\u001b[0m \u001b[0mfilterrad\u001b[0m\u001b[1;33m=\u001b[0m\u001b[1;36m4.0\u001b[0m\u001b[1;33m,\u001b[0m \u001b[0mresample\u001b[0m\u001b[1;33m=\u001b[0m\u001b[1;32mNone\u001b[0m\u001b[1;33m,\u001b[0m \u001b[0murl\u001b[0m\u001b[1;33m=\u001b[0m\u001b[1;32mNone\u001b[0m\u001b[1;33m,\u001b[0m\u001b[1;33m\u001b[0m\u001b[1;33m\u001b[0m\u001b[0m\n\u001b[0;32m   2871\u001b[0m         data=None, **kwargs):\n\u001b[1;32m-> 2872\u001b[1;33m     __ret = gca().imshow(\n\u001b[0m\u001b[0;32m   2873\u001b[0m         \u001b[0mX\u001b[0m\u001b[1;33m,\u001b[0m \u001b[0mcmap\u001b[0m\u001b[1;33m=\u001b[0m\u001b[0mcmap\u001b[0m\u001b[1;33m,\u001b[0m \u001b[0mnorm\u001b[0m\u001b[1;33m=\u001b[0m\u001b[0mnorm\u001b[0m\u001b[1;33m,\u001b[0m \u001b[0maspect\u001b[0m\u001b[1;33m=\u001b[0m\u001b[0maspect\u001b[0m\u001b[1;33m,\u001b[0m\u001b[1;33m\u001b[0m\u001b[1;33m\u001b[0m\u001b[0m\n\u001b[0;32m   2874\u001b[0m         \u001b[0minterpolation\u001b[0m\u001b[1;33m=\u001b[0m\u001b[0minterpolation\u001b[0m\u001b[1;33m,\u001b[0m \u001b[0malpha\u001b[0m\u001b[1;33m=\u001b[0m\u001b[0malpha\u001b[0m\u001b[1;33m,\u001b[0m \u001b[0mvmin\u001b[0m\u001b[1;33m=\u001b[0m\u001b[0mvmin\u001b[0m\u001b[1;33m,\u001b[0m\u001b[1;33m\u001b[0m\u001b[1;33m\u001b[0m\u001b[0m\n",
      "\u001b[1;32mc:\\users\\puppy\\appdata\\local\\programs\\python\\python38\\lib\\site-packages\\matplotlib\\__init__.py\u001b[0m in \u001b[0;36minner\u001b[1;34m(ax, data, *args, **kwargs)\u001b[0m\n\u001b[0;32m   1350\u001b[0m     \u001b[1;32mdef\u001b[0m \u001b[0minner\u001b[0m\u001b[1;33m(\u001b[0m\u001b[0max\u001b[0m\u001b[1;33m,\u001b[0m \u001b[1;33m*\u001b[0m\u001b[0margs\u001b[0m\u001b[1;33m,\u001b[0m \u001b[0mdata\u001b[0m\u001b[1;33m=\u001b[0m\u001b[1;32mNone\u001b[0m\u001b[1;33m,\u001b[0m \u001b[1;33m**\u001b[0m\u001b[0mkwargs\u001b[0m\u001b[1;33m)\u001b[0m\u001b[1;33m:\u001b[0m\u001b[1;33m\u001b[0m\u001b[1;33m\u001b[0m\u001b[0m\n\u001b[0;32m   1351\u001b[0m         \u001b[1;32mif\u001b[0m \u001b[0mdata\u001b[0m \u001b[1;32mis\u001b[0m \u001b[1;32mNone\u001b[0m\u001b[1;33m:\u001b[0m\u001b[1;33m\u001b[0m\u001b[1;33m\u001b[0m\u001b[0m\n\u001b[1;32m-> 1352\u001b[1;33m             \u001b[1;32mreturn\u001b[0m \u001b[0mfunc\u001b[0m\u001b[1;33m(\u001b[0m\u001b[0max\u001b[0m\u001b[1;33m,\u001b[0m \u001b[1;33m*\u001b[0m\u001b[0mmap\u001b[0m\u001b[1;33m(\u001b[0m\u001b[0msanitize_sequence\u001b[0m\u001b[1;33m,\u001b[0m \u001b[0margs\u001b[0m\u001b[1;33m)\u001b[0m\u001b[1;33m,\u001b[0m \u001b[1;33m**\u001b[0m\u001b[0mkwargs\u001b[0m\u001b[1;33m)\u001b[0m\u001b[1;33m\u001b[0m\u001b[1;33m\u001b[0m\u001b[0m\n\u001b[0m\u001b[0;32m   1353\u001b[0m \u001b[1;33m\u001b[0m\u001b[0m\n\u001b[0;32m   1354\u001b[0m         \u001b[0mbound\u001b[0m \u001b[1;33m=\u001b[0m \u001b[0mnew_sig\u001b[0m\u001b[1;33m.\u001b[0m\u001b[0mbind\u001b[0m\u001b[1;33m(\u001b[0m\u001b[0max\u001b[0m\u001b[1;33m,\u001b[0m \u001b[1;33m*\u001b[0m\u001b[0margs\u001b[0m\u001b[1;33m,\u001b[0m \u001b[1;33m**\u001b[0m\u001b[0mkwargs\u001b[0m\u001b[1;33m)\u001b[0m\u001b[1;33m\u001b[0m\u001b[1;33m\u001b[0m\u001b[0m\n",
      "\u001b[1;32mc:\\users\\puppy\\appdata\\local\\programs\\python\\python38\\lib\\site-packages\\matplotlib\\axes\\_axes.py\u001b[0m in \u001b[0;36mimshow\u001b[1;34m(self, X, cmap, norm, aspect, interpolation, alpha, vmin, vmax, origin, extent, filternorm, filterrad, resample, url, **kwargs)\u001b[0m\n\u001b[0;32m   5586\u001b[0m                               resample=resample, **kwargs)\n\u001b[0;32m   5587\u001b[0m \u001b[1;33m\u001b[0m\u001b[0m\n\u001b[1;32m-> 5588\u001b[1;33m         \u001b[0mim\u001b[0m\u001b[1;33m.\u001b[0m\u001b[0mset_data\u001b[0m\u001b[1;33m(\u001b[0m\u001b[0mX\u001b[0m\u001b[1;33m)\u001b[0m\u001b[1;33m\u001b[0m\u001b[1;33m\u001b[0m\u001b[0m\n\u001b[0m\u001b[0;32m   5589\u001b[0m         \u001b[0mim\u001b[0m\u001b[1;33m.\u001b[0m\u001b[0mset_alpha\u001b[0m\u001b[1;33m(\u001b[0m\u001b[0malpha\u001b[0m\u001b[1;33m)\u001b[0m\u001b[1;33m\u001b[0m\u001b[1;33m\u001b[0m\u001b[0m\n\u001b[0;32m   5590\u001b[0m         \u001b[1;32mif\u001b[0m \u001b[0mim\u001b[0m\u001b[1;33m.\u001b[0m\u001b[0mget_clip_path\u001b[0m\u001b[1;33m(\u001b[0m\u001b[1;33m)\u001b[0m \u001b[1;32mis\u001b[0m \u001b[1;32mNone\u001b[0m\u001b[1;33m:\u001b[0m\u001b[1;33m\u001b[0m\u001b[1;33m\u001b[0m\u001b[0m\n",
      "\u001b[1;32mc:\\users\\puppy\\appdata\\local\\programs\\python\\python38\\lib\\site-packages\\matplotlib\\image.py\u001b[0m in \u001b[0;36mset_data\u001b[1;34m(self, A)\u001b[0m\n\u001b[0;32m    707\u001b[0m         if not (self._A.ndim == 2\n\u001b[0;32m    708\u001b[0m                 or self._A.ndim == 3 and self._A.shape[-1] in [3, 4]):\n\u001b[1;32m--> 709\u001b[1;33m             raise TypeError(\"Invalid shape {} for image data\"\n\u001b[0m\u001b[0;32m    710\u001b[0m                             .format(self._A.shape))\n\u001b[0;32m    711\u001b[0m \u001b[1;33m\u001b[0m\u001b[0m\n",
      "\u001b[1;31mTypeError\u001b[0m: Invalid shape (784,) for image data"
     ]
    },
    {
     "data": {
      "image/png": "[encoded data removed]",
      "text/plain": [
       "<Figure size 432x288 with 1 Axes>"
      ]
     },
     "metadata": {
      "needs_background": "light"
     },
     "output_type": "display_data"
    }
   ],
   "source": [
    "plt.imshow(x_valid[256],cmap='Greys')"
   ]
  },
  {
   "cell_type": "code",
   "execution_count": 35,
   "id": "assumed-canadian",
   "metadata": {},
   "outputs": [],
   "source": [
    "(x_train,y_train),(x_valid,y_valid)=mnist.load_data()"
   ]
  },
  {
   "cell_type": "code",
   "execution_count": 36,
   "id": "narrow-pickup",
   "metadata": {},
   "outputs": [
    {
     "data": {
      "text/plain": [
       "<matplotlib.image.AxesImage at 0x2e4d7264b20>"
      ]
     },
     "execution_count": 36,
     "metadata": {},
     "output_type": "execute_result"
    },
    {
     "data": {
      "image/png": "[encoded data removed]",
      "text/plain": [
       "<Figure size 432x288 with 1 Axes>"
      ]
     },
     "metadata": {
      "needs_background": "light"
     },
     "output_type": "display_data"
    }
   ],
   "source": [
    "plt.imshow(x_valid[256],cmap='Greys')"
   ]
  },
  {
   "cell_type": "code",
   "execution_count": null,
   "id": "opposed-seattle",
   "metadata": {},
   "outputs": [],
   "source": []
  }
 ],
 "metadata": {
  "kernelspec": {
   "display_name": "Python 3",
   "language": "python",
   "name": "python3"
  },
  "language_info": {
   "codemirror_mode": {
    "name": "ipython",
    "version": 3
   },
   "file_extension": ".py",
   "mimetype": "text/x-python",
   "name": "python",
   "nbconvert_exporter": "python",
   "pygments_lexer": "ipython3",
   "version": "3.8.5"
  }
 },
 "nbformat": 4,
 "nbformat_minor": 5
}
