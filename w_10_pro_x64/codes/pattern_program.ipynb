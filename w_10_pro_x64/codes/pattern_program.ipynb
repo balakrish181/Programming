{
 "cells": [
  {
   "cell_type": "code",
   "execution_count": 1,
   "id": "mediterranean-repair",
   "metadata": {},
   "outputs": [],
   "source": [
    "#pyramid\n",
    "def pattern(n):\n",
    "    k=2*n-2\n",
    "    for i in range(n):\n",
    "        for j in range(k):\n",
    "            print(end=\" \")\n",
    "        k=k-1\n",
    "        for j in range(i+1):\n",
    "            print(\"*\",end=\" \")\n",
    "        \n",
    "        print(\"\\r\")\n",
    "        \n",
    "            "
   ]
  },
  {
   "cell_type": "code",
   "execution_count": 2,
   "id": "constitutional-museum",
   "metadata": {},
   "outputs": [
    {
     "name": "stdout",
     "output_type": "stream",
     "text": [
      "                  * \r\n",
      "                 * * \r\n",
      "                * * * \r\n",
      "               * * * * \r\n",
      "              * * * * * \r\n",
      "             * * * * * * \r\n",
      "            * * * * * * * \r\n",
      "           * * * * * * * * \r\n",
      "          * * * * * * * * * \r\n",
      "         * * * * * * * * * * \r\n"
     ]
    }
   ],
   "source": [
    "pattern(10)"
   ]
  },
  {
   "cell_type": "code",
   "execution_count": 3,
   "id": "necessary-duncan",
   "metadata": {},
   "outputs": [],
   "source": [
    "#inverse pyramid\n",
    "\n",
    "def inv_pyramid(n):\n",
    "    for i in range(n,-1,-1):\n",
    "        for j in range(n,0,-1):\n",
    "            print(end=\" \")\n",
    "        n=n+1\n",
    "        for j in range(0,i+1):\n",
    "            print(\"*\",end=\" \")\n",
    "        print(\"\\r\")    \n",
    "            \n",
    "            "
   ]
  },
  {
   "cell_type": "code",
   "execution_count": 4,
   "id": "clean-influence",
   "metadata": {},
   "outputs": [
    {
     "name": "stdout",
     "output_type": "stream",
     "text": [
      "     * * * * * * \r\n",
      "      * * * * * \r\n",
      "       * * * * \r\n",
      "        * * * \r\n",
      "         * * \r\n",
      "          * \r\n"
     ]
    }
   ],
   "source": [
    "inv_pyramid(5)"
   ]
  },
  {
   "cell_type": "code",
   "execution_count": 5,
   "id": "operating-transcript",
   "metadata": {},
   "outputs": [
    {
     "ename": "SyntaxError",
     "evalue": "invalid syntax (<ipython-input-5-be60948e8520>, line 7)",
     "output_type": "error",
     "traceback": [
      "\u001b[1;36m  File \u001b[1;32m\"<ipython-input-5-be60948e8520>\"\u001b[1;36m, line \u001b[1;32m7\u001b[0m\n\u001b[1;33m    for i in range()\u001b[0m\n\u001b[1;37m                        ^\u001b[0m\n\u001b[1;31mSyntaxError\u001b[0m\u001b[1;31m:\u001b[0m invalid syntax\n"
     ]
    }
   ],
   "source": [
    "#right star pattern\n",
    "def pattern(n):\n",
    "    for i in range(0,n):\n",
    "        for j in range(0,i+1):\n",
    "            print(\"*\",end=\" \")\n",
    "        print(\"\\r\")\n",
    "    for i in range()    "
   ]
  },
  {
   "cell_type": "code",
   "execution_count": null,
   "id": "surrounded-oxygen",
   "metadata": {},
   "outputs": [],
   "source": []
  }
 ],
 "metadata": {
  "kernelspec": {
   "display_name": "Python 3",
   "language": "python",
   "name": "python3"
  },
  "language_info": {
   "codemirror_mode": {
    "name": "ipython",
    "version": 3
   },
   "file_extension": ".py",
   "mimetype": "text/x-python",
   "name": "python",
   "nbconvert_exporter": "python",
   "pygments_lexer": "ipython3",
   "version": "3.8.5"
  }
 },
 "nbformat": 4,
 "nbformat_minor": 5
}
