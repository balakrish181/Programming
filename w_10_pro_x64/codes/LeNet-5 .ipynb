{
 "cells": [
  {
   "cell_type": "code",
   "execution_count": 5,
   "id": "close-bones",
   "metadata": {},
   "outputs": [],
   "source": [
    "import keras\n",
    "from keras.datasets import mnist\n",
    "from keras.models import Sequential\n",
    "from keras.layers import Dense,Dropout\n",
    "from keras.layers import Conv2D,MaxPooling2D\n",
    "from keras.layers import Flatten\n",
    "from keras.utils import to_categorical"
   ]
  },
  {
   "cell_type": "code",
   "execution_count": 3,
   "id": "working-armenia",
   "metadata": {},
   "outputs": [],
   "source": [
    "(x_train,y_train),(x_valid,y_valid)=mnist.load_data()"
   ]
  },
  {
   "cell_type": "code",
   "execution_count": 4,
   "id": "sorted-cable",
   "metadata": {},
   "outputs": [],
   "source": [
    "x_train=x_train.reshape(60000,28,28,1).astype('float32')\n",
    "x_valid=x_valid.reshape(10000,28,28,1).astype('float32')"
   ]
  },
  {
   "cell_type": "code",
   "execution_count": 6,
   "id": "oriented-flexibility",
   "metadata": {},
   "outputs": [],
   "source": [
    "n_classes=10\n",
    "y_train=to_categorical(y_train,n_classes)\n",
    "y_valid=to_categorical(y_valid,n_classes)"
   ]
  },
  {
   "cell_type": "code",
   "execution_count": 7,
   "id": "representative-donna",
   "metadata": {},
   "outputs": [],
   "source": [
    "model=Sequential([\n",
    "    Conv2D(32,kernel_size=(3,3),activation='relu',input_shape=(28,28,1)),\n",
    "    \n",
    "    \n",
    "    Conv2D(64,kernel_size=(3,3),activation='relu'),\n",
    "    MaxPooling2D(pool_size=(2,2)),\n",
    "    Dropout(0.2),\n",
    "    Flatten(),\n",
    "    \n",
    "    Dense(128,activation='relu'),\n",
    "    Dropout(0.5),\n",
    "    \n",
    "    Dense(10,activation='softmax')\n",
    "])"
   ]
  },
  {
   "cell_type": "code",
   "execution_count": 8,
   "id": "focal-project",
   "metadata": {},
   "outputs": [
    {
     "name": "stdout",
     "output_type": "stream",
     "text": [
      "Model: \"sequential\"\n",
      "_________________________________________________________________\n",
      "Layer (type)                 Output Shape              Param #   \n",
      "=================================================================\n",
      "conv2d (Conv2D)              (None, 26, 26, 32)        320       \n",
      "_________________________________________________________________\n",
      "conv2d_1 (Conv2D)            (None, 24, 24, 64)        18496     \n",
      "_________________________________________________________________\n",
      "max_pooling2d (MaxPooling2D) (None, 12, 12, 64)        0         \n",
      "_________________________________________________________________\n",
      "dropout (Dropout)            (None, 12, 12, 64)        0         \n",
      "_________________________________________________________________\n",
      "flatten (Flatten)            (None, 9216)              0         \n",
      "_________________________________________________________________\n",
      "dense (Dense)                (None, 128)               1179776   \n",
      "_________________________________________________________________\n",
      "dropout_1 (Dropout)          (None, 128)               0         \n",
      "_________________________________________________________________\n",
      "dense_1 (Dense)              (None, 10)                1290      \n",
      "=================================================================\n",
      "Total params: 1,199,882\n",
      "Trainable params: 1,199,882\n",
      "Non-trainable params: 0\n",
      "_________________________________________________________________\n"
     ]
    }
   ],
   "source": [
    "model.summary()"
   ]
  },
  {
   "cell_type": "code",
   "execution_count": 9,
   "id": "noted-spanish",
   "metadata": {},
   "outputs": [],
   "source": [
    "model.compile(loss='categorical_crossentropy', optimizer='adam', metrics=['accuracy'])\n"
   ]
  },
  {
   "cell_type": "code",
   "execution_count": 11,
   "id": "cooperative-velvet",
   "metadata": {},
   "outputs": [
    {
     "name": "stdout",
     "output_type": "stream",
     "text": [
      "Epoch 1/10\n",
      "469/469 [==============================] - 411s 867ms/step - loss: 2.3923 - accuracy: 0.7247 - val_loss: 0.0748 - val_accuracy: 0.9766\n",
      "Epoch 2/10\n",
      "469/469 [==============================] - 380s 809ms/step - loss: 0.1611 - accuracy: 0.9529 - val_loss: 0.0545 - val_accuracy: 0.9849\n",
      "Epoch 3/10\n",
      "469/469 [==============================] - 383s 817ms/step - loss: 0.1154 - accuracy: 0.9662 - val_loss: 0.0506 - val_accuracy: 0.9854\n",
      "Epoch 4/10\n",
      "469/469 [==============================] - 385s 821ms/step - loss: 0.0865 - accuracy: 0.9742 - val_loss: 0.0490 - val_accuracy: 0.9848\n",
      "Epoch 5/10\n",
      "469/469 [==============================] - 378s 806ms/step - loss: 0.0722 - accuracy: 0.9784 - val_loss: 0.0431 - val_accuracy: 0.9875\n",
      "Epoch 6/10\n",
      "469/469 [==============================] - 399s 851ms/step - loss: 0.0665 - accuracy: 0.9799 - val_loss: 0.0446 - val_accuracy: 0.9885\n",
      "Epoch 7/10\n",
      "469/469 [==============================] - 448s 956ms/step - loss: 0.0577 - accuracy: 0.9818 - val_loss: 0.0393 - val_accuracy: 0.9883\n",
      "Epoch 8/10\n",
      "469/469 [==============================] - 401s 854ms/step - loss: 0.0473 - accuracy: 0.9858 - val_loss: 0.0415 - val_accuracy: 0.9890\n",
      "Epoch 9/10\n",
      "469/469 [==============================] - 524s 1s/step - loss: 0.0524 - accuracy: 0.9834 - val_loss: 0.0379 - val_accuracy: 0.9893\n",
      "Epoch 10/10\n",
      "469/469 [==============================] - 450s 960ms/step - loss: 0.0506 - accuracy: 0.9840 - val_loss: 0.0410 - val_accuracy: 0.9888\n"
     ]
    },
    {
     "data": {
      "text/plain": [
       "<tensorflow.python.keras.callbacks.History at 0x21ddbfa2820>"
      ]
     },
     "execution_count": 11,
     "metadata": {},
     "output_type": "execute_result"
    }
   ],
   "source": [
    "model.fit(x_train, y_train, batch_size=128, epochs=10, verbose=1, validation_data=(x_valid, y_valid))\n"
   ]
  },
  {
   "cell_type": "code",
   "execution_count": null,
   "id": "phantom-apartment",
   "metadata": {},
   "outputs": [],
   "source": []
  }
 ],
 "metadata": {
  "kernelspec": {
   "display_name": "Python 3",
   "language": "python",
   "name": "python3"
  },
  "language_info": {
   "codemirror_mode": {
    "name": "ipython",
    "version": 3
   },
   "file_extension": ".py",
   "mimetype": "text/x-python",
   "name": "python",
   "nbconvert_exporter": "python",
   "pygments_lexer": "ipython3",
   "version": "3.8.5"
  }
 },
 "nbformat": 4,
 "nbformat_minor": 5
}
