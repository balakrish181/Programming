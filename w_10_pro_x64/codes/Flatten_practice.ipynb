{
 "cells": [
  {
   "cell_type": "code",
   "execution_count": 1,
   "id": "surgical-cornwall",
   "metadata": {},
   "outputs": [],
   "source": [
    "import keras\n",
    "from keras import Sequential\n",
    "from keras.layers import Dense,Flatten,Activation,Dropout\n",
    "from keras.optimizers import Adam\n",
    "from keras.datasets import mnist\n",
    "from keras.layers.normalization import BatchNormalization\n",
    "from keras.utils import to_categorical"
   ]
  },
  {
   "cell_type": "code",
   "execution_count": 2,
   "id": "popular-corner",
   "metadata": {},
   "outputs": [],
   "source": [
    "(x_train,y_train),(x_valid,y_valid)=mnist.load_data()"
   ]
  },
  {
   "cell_type": "code",
   "execution_count": 6,
   "id": "remarkable-carnival",
   "metadata": {},
   "outputs": [
    {
     "name": "stdout",
     "output_type": "stream",
     "text": [
      "(60000, 28, 28)\n",
      "(60000,)\n",
      "(10000, 28, 28)\n",
      "(10000,)\n"
     ]
    }
   ],
   "source": [
    "print(x_train.shape)\n",
    "print(y_train.shape)\n",
    "print(x_valid.shape)\n",
    "print(y_valid.shape)"
   ]
  },
  {
   "cell_type": "code",
   "execution_count": 7,
   "id": "wanted-leadership",
   "metadata": {},
   "outputs": [],
   "source": [
    "x_train,x_valid=x_train/255.0,x_valid/255.0"
   ]
  },
  {
   "cell_type": "code",
   "execution_count": 8,
   "id": "signed-playing",
   "metadata": {},
   "outputs": [],
   "source": [
    "classes=10\n",
    "y_train=to_categorical(y_train,classes)\n",
    "y_valid=to_categorical(y_valid,classes)"
   ]
  },
  {
   "cell_type": "code",
   "execution_count": 10,
   "id": "signed-mouth",
   "metadata": {},
   "outputs": [],
   "source": [
    "model=Sequential([\n",
    "    Flatten(input_shape=(28,28)),\n",
    "    Dense(64,activation='relu'),\n",
    "    BatchNormalization(),\n",
    "    \n",
    "    Dense(10,activation='softmax')\n",
    "])"
   ]
  },
  {
   "cell_type": "code",
   "execution_count": 11,
   "id": "polish-consciousness",
   "metadata": {},
   "outputs": [
    {
     "name": "stdout",
     "output_type": "stream",
     "text": [
      "Model: \"sequential\"\n",
      "_________________________________________________________________\n",
      "Layer (type)                 Output Shape              Param #   \n",
      "=================================================================\n",
      "flatten (Flatten)            (None, 784)               0         \n",
      "_________________________________________________________________\n",
      "dense (Dense)                (None, 64)                50240     \n",
      "_________________________________________________________________\n",
      "batch_normalization (BatchNo (None, 64)                256       \n",
      "_________________________________________________________________\n",
      "dense_1 (Dense)              (None, 10)                650       \n",
      "=================================================================\n",
      "Total params: 51,146\n",
      "Trainable params: 51,018\n",
      "Non-trainable params: 128\n",
      "_________________________________________________________________\n"
     ]
    }
   ],
   "source": [
    "model.summary()"
   ]
  },
  {
   "cell_type": "code",
   "execution_count": 14,
   "id": "greenhouse-kazakhstan",
   "metadata": {},
   "outputs": [],
   "source": [
    "model.compile(loss='categorical_crossentropy',optimizer='adam',metrics=['accuracy'])"
   ]
  },
  {
   "cell_type": "code",
   "execution_count": 15,
   "id": "successful-tender",
   "metadata": {},
   "outputs": [
    {
     "name": "stdout",
     "output_type": "stream",
     "text": [
      "Epoch 1/30\n",
      "469/469 [==============================] - 12s 11ms/step - loss: 0.5929 - accuracy: 0.8268 - val_loss: 0.1765 - val_accuracy: 0.9497\n",
      "Epoch 2/30\n",
      "469/469 [==============================] - 4s 8ms/step - loss: 0.1597 - accuracy: 0.9543 - val_loss: 0.1322 - val_accuracy: 0.9606\n",
      "Epoch 3/30\n",
      "469/469 [==============================] - 4s 8ms/step - loss: 0.1085 - accuracy: 0.9700 - val_loss: 0.1131 - val_accuracy: 0.9666\n",
      "Epoch 4/30\n",
      "469/469 [==============================] - 4s 8ms/step - loss: 0.0826 - accuracy: 0.9760 - val_loss: 0.1051 - val_accuracy: 0.9679\n",
      "Epoch 5/30\n",
      "469/469 [==============================] - 4s 8ms/step - loss: 0.0680 - accuracy: 0.9804 - val_loss: 0.1138 - val_accuracy: 0.9646\n",
      "Epoch 6/30\n",
      "469/469 [==============================] - 4s 8ms/step - loss: 0.0572 - accuracy: 0.9832 - val_loss: 0.0883 - val_accuracy: 0.9735\n",
      "Epoch 7/30\n",
      "469/469 [==============================] - 4s 9ms/step - loss: 0.0488 - accuracy: 0.9863 - val_loss: 0.0897 - val_accuracy: 0.9736\n",
      "Epoch 8/30\n",
      "469/469 [==============================] - 4s 8ms/step - loss: 0.0412 - accuracy: 0.9882 - val_loss: 0.1049 - val_accuracy: 0.9696\n",
      "Epoch 9/30\n",
      "469/469 [==============================] - 4s 9ms/step - loss: 0.0383 - accuracy: 0.9896 - val_loss: 0.1027 - val_accuracy: 0.9694\n",
      "Epoch 10/30\n",
      "469/469 [==============================] - 4s 8ms/step - loss: 0.0334 - accuracy: 0.9903 - val_loss: 0.0891 - val_accuracy: 0.9728\n",
      "Epoch 11/30\n",
      "469/469 [==============================] - 4s 8ms/step - loss: 0.0272 - accuracy: 0.9929 - val_loss: 0.0889 - val_accuracy: 0.9740\n",
      "Epoch 12/30\n",
      "469/469 [==============================] - 4s 8ms/step - loss: 0.0258 - accuracy: 0.9918 - val_loss: 0.0974 - val_accuracy: 0.9733\n",
      "Epoch 13/30\n",
      "469/469 [==============================] - 4s 8ms/step - loss: 0.0226 - accuracy: 0.9936 - val_loss: 0.0915 - val_accuracy: 0.9746\n",
      "Epoch 14/30\n",
      "469/469 [==============================] - 4s 8ms/step - loss: 0.0203 - accuracy: 0.9941 - val_loss: 0.0959 - val_accuracy: 0.9757\n",
      "Epoch 15/30\n",
      "469/469 [==============================] - 4s 8ms/step - loss: 0.0193 - accuracy: 0.9947 - val_loss: 0.1105 - val_accuracy: 0.9703\n",
      "Epoch 16/30\n",
      "469/469 [==============================] - 4s 8ms/step - loss: 0.0181 - accuracy: 0.9945 - val_loss: 0.0990 - val_accuracy: 0.9733\n",
      "Epoch 17/30\n",
      "469/469 [==============================] - 4s 8ms/step - loss: 0.0157 - accuracy: 0.9954 - val_loss: 0.1021 - val_accuracy: 0.9734\n",
      "Epoch 18/30\n",
      "469/469 [==============================] - 4s 8ms/step - loss: 0.0138 - accuracy: 0.9961 - val_loss: 0.0927 - val_accuracy: 0.9756\n",
      "Epoch 19/30\n",
      "469/469 [==============================] - 4s 8ms/step - loss: 0.0123 - accuracy: 0.9965 - val_loss: 0.1072 - val_accuracy: 0.9711\n",
      "Epoch 20/30\n",
      "469/469 [==============================] - 4s 8ms/step - loss: 0.0132 - accuracy: 0.9961 - val_loss: 0.0972 - val_accuracy: 0.9756\n",
      "Epoch 21/30\n",
      "469/469 [==============================] - 4s 8ms/step - loss: 0.0121 - accuracy: 0.9967 - val_loss: 0.1033 - val_accuracy: 0.9741\n",
      "Epoch 22/30\n",
      "469/469 [==============================] - 4s 8ms/step - loss: 0.0113 - accuracy: 0.9968 - val_loss: 0.1062 - val_accuracy: 0.9745\n",
      "Epoch 23/30\n",
      "469/469 [==============================] - 4s 8ms/step - loss: 0.0101 - accuracy: 0.9970 - val_loss: 0.1048 - val_accuracy: 0.9754\n",
      "Epoch 24/30\n",
      "469/469 [==============================] - 4s 8ms/step - loss: 0.0107 - accuracy: 0.9970 - val_loss: 0.1145 - val_accuracy: 0.9737\n",
      "Epoch 25/30\n",
      "469/469 [==============================] - 4s 8ms/step - loss: 0.0103 - accuracy: 0.9967 - val_loss: 0.1094 - val_accuracy: 0.9747\n",
      "Epoch 26/30\n",
      "469/469 [==============================] - 4s 8ms/step - loss: 0.0096 - accuracy: 0.9976 - val_loss: 0.1044 - val_accuracy: 0.9732\n",
      "Epoch 27/30\n",
      "469/469 [==============================] - 4s 8ms/step - loss: 0.0079 - accuracy: 0.9978 - val_loss: 0.1128 - val_accuracy: 0.9729\n",
      "Epoch 28/30\n",
      "469/469 [==============================] - 4s 8ms/step - loss: 0.0092 - accuracy: 0.9971 - val_loss: 0.1137 - val_accuracy: 0.9734\n",
      "Epoch 29/30\n",
      "469/469 [==============================] - 4s 8ms/step - loss: 0.0089 - accuracy: 0.9973 - val_loss: 0.1206 - val_accuracy: 0.9730\n",
      "Epoch 30/30\n",
      "469/469 [==============================] - 4s 8ms/step - loss: 0.0075 - accuracy: 0.9978 - val_loss: 0.1182 - val_accuracy: 0.9739\n"
     ]
    },
    {
     "data": {
      "text/plain": [
       "<tensorflow.python.keras.callbacks.History at 0x224bbbe44c0>"
      ]
     },
     "execution_count": 15,
     "metadata": {},
     "output_type": "execute_result"
    }
   ],
   "source": [
    "model.fit(x_train,y_train,batch_size=128,verbose=1,epochs=30,validation_data=(x_valid,y_valid))"
   ]
  },
  {
   "cell_type": "code",
   "execution_count": null,
   "id": "russian-hometown",
   "metadata": {},
   "outputs": [],
   "source": []
  }
 ],
 "metadata": {
  "kernelspec": {
   "display_name": "Python 3",
   "language": "python",
   "name": "python3"
  },
  "language_info": {
   "codemirror_mode": {
    "name": "ipython",
    "version": 3
   },
   "file_extension": ".py",
   "mimetype": "text/x-python",
   "name": "python",
   "nbconvert_exporter": "python",
   "pygments_lexer": "ipython3",
   "version": "3.8.5"
  }
 },
 "nbformat": 4,
 "nbformat_minor": 5
}
